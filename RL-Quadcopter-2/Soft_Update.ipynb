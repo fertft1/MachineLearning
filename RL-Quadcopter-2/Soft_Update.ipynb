{
 "cells": [
  {
   "cell_type": "code",
   "execution_count": 1,
   "metadata": {
    "collapsed": true
   },
   "outputs": [],
   "source": [
    "import tensorflow as tf\n",
    "from itertools import count as COUNTER\n",
    "import sys\n",
    "import matplotlib.pyplot as plt"
   ]
  },
  {
   "cell_type": "markdown",
   "metadata": {},
   "source": [
    "### Definindo task"
   ]
  },
  {
   "cell_type": "code",
   "execution_count": 2,
   "metadata": {
    "collapsed": true
   },
   "outputs": [],
   "source": [
    "import numpy as np\n",
    "from physics_sim import PhysicsSim\n",
    "\n",
    "class Task():\n",
    "    \"\"\"Task (environment) that defines the goal and provides feedback to the agent.\"\"\"\n",
    "    def __init__(self, init_pose=None, init_velocities=None, \n",
    "        init_angle_velocities=None, runtime=5., target_pos=None):\n",
    "        \"\"\"Initialize a Task object.\n",
    "        Params\n",
    "        ======\n",
    "            init_pose: initial position of the quadcopter in (x,y,z) dimensions and the Euler angles\n",
    "            init_velocities: initial velocity of the quadcopter in (x,y,z) dimensions\n",
    "            init_angle_velocities: initial radians/second for each of the three Euler angles\n",
    "            runtime: time limit for each episode\n",
    "            target_pos: target/goal (x,y,z) position for the agent\n",
    "        \"\"\"\n",
    "        # Simulation\n",
    "        self.sim = PhysicsSim(init_pose, init_velocities, init_angle_velocities, runtime) \n",
    "        self.action_repeat = 3\n",
    "\n",
    "        self.state_size = self.action_repeat * 6 + 6\n",
    "        self.action_low = 0\n",
    "        self.action_high = 900\n",
    "        self.action_size = 4\n",
    "\n",
    "        # Goal\n",
    "        self.target_pos = target_pos if target_pos is not None else np.array([0., 0., 10.]) \n",
    "\n",
    "    def get_reward(self):\n",
    "        \"\"\"Uses current pose of sim to return reward.\"\"\"\n",
    "        reward = 1 - 1 * np.sqrt(((self.sim.pose[:3] - self.target_pos)**2).sum())\n",
    "        \n",
    "        #reward += - 1 *(task.sim.pose[3:] > 3.).any()\n",
    "        \n",
    "        return reward\n",
    "    \n",
    "    def step(self, rotor_speeds):\n",
    "        \"\"\"Uses action to obtain next state, reward, done.\"\"\"\n",
    "        reward = 0\n",
    "        pose_all = []\n",
    "        for _ in range(self.action_repeat):\n",
    "            done = self.sim.next_timestep(rotor_speeds) # update the sim pose and velocities\n",
    "            reward += self.get_reward() \n",
    "            pose_all.append(self.sim.pose)\n",
    "            \n",
    "        pose_all_np = np.concatenate(pose_all)\n",
    "        next_state = np.concatenate([pose_all_np, self.sim.v, self.sim.angular_v])\n",
    "        return next_state, reward, done\n",
    "\n",
    "    def reset(self):\n",
    "        \"\"\"Reset the sim to start a new episode.\"\"\"\n",
    "        self.sim.reset()\n",
    "        state = np.concatenate([np.concatenate([self.sim.pose] * self.action_repeat), self.sim.v, self.sim.angular_v]) \n",
    "        return state"
   ]
  },
  {
   "cell_type": "markdown",
   "metadata": {},
   "source": [
    "### Analisando dimensões\n",
    "pode ser útil criar feature scalling "
   ]
  },
  {
   "cell_type": "markdown",
   "metadata": {},
   "source": [
    "### Inicializando as tarefas"
   ]
  },
  {
   "cell_type": "code",
   "execution_count": 3,
   "metadata": {
    "collapsed": true
   },
   "outputs": [],
   "source": [
    "# Modify the values below to give the quadcopter a different starting position.\n",
    "runtime = 500.                                     # time limit of the episode\n",
    "init_pose = np.array([0., 0., 1., 0., 0., 0.])  # initial pose\n",
    "init_velocities = np.array([0., 0., 0.])            # initial velocities\n",
    "init_angle_velocities = np.array([0., 0., 0.])      # initial angle velocities\n",
    "target_pos = np.array([0., 0., 200.]);\n",
    "\n",
    "task = Task(init_pose, init_velocities, init_angle_velocities, runtime, target_pos)"
   ]
  },
  {
   "cell_type": "code",
   "execution_count": 4,
   "metadata": {},
   "outputs": [
    {
     "name": "stdout",
     "output_type": "stream",
     "text": [
      "Reward -594.0274708330526\n",
      "Posição [0.         0.         0.99803801]\n",
      "Posição Angular [0.         6.28318525 0.        ]\n",
      "Velocidade [-2.86867730e-12  0.00000000e+00 -5.88784354e-01]\n",
      "velocidade angular [ 0.00000000e+00 -2.88303794e-06  0.00000000e+00]\n"
     ]
    }
   ],
   "source": [
    "next_state, reward, _ = task.step(1*np.array([1.1, 1., 1., 1.]))\n",
    "print('Reward', reward)\n",
    "print('Posição', next_state[:3])\n",
    "print('Posição Angular', task.sim.pose[3:])\n",
    "print('Velocidade', task.sim.v)\n",
    "print('velocidade angular', task.sim.angular_v)"
   ]
  },
  {
   "cell_type": "markdown",
   "metadata": {},
   "source": [
    "# Ruído Ornstein–Uhlenbeck"
   ]
  },
  {
   "cell_type": "code",
   "execution_count": 5,
   "metadata": {
    "collapsed": true
   },
   "outputs": [],
   "source": [
    "class OUNoise:\n",
    "    \"\"\"Ornstein-Uhlenbeck process.\"\"\"\n",
    "\n",
    "    def __init__(self, size, mu, theta, sigma):\n",
    "        \"\"\"Initialize parameters and noise process.\"\"\"\n",
    "        self.mu = mu * np.ones(size)\n",
    "        self.theta = theta\n",
    "        self.sigma = sigma\n",
    "        self.reset()\n",
    "\n",
    "    def reset(self):\n",
    "        \"\"\"Reset the internal state (= noise) to mean (mu).\"\"\"\n",
    "        self.state = self.mu\n",
    "\n",
    "    def sample(self):\n",
    "        \"\"\"Update internal state and return it as a noise sample.\"\"\"\n",
    "        x = self.state\n",
    "        dx = self.theta * (self.mu - x) + self.sigma * np.random.randn(len(x))\n",
    "        self.state = x + dx\n",
    "        return self.state"
   ]
  },
  {
   "cell_type": "markdown",
   "metadata": {},
   "source": [
    "# Replay Buffer"
   ]
  },
  {
   "cell_type": "code",
   "execution_count": 6,
   "metadata": {
    "collapsed": true
   },
   "outputs": [],
   "source": [
    "import random\n",
    "from collections import namedtuple, deque\n",
    "\n",
    "class ReplayBuffer:\n",
    "    \"\"\"Fixed-size buffer to store experience tuples.\"\"\"\n",
    "\n",
    "    def __init__(self, buffer_size, batch_size):\n",
    "        \"\"\"Initialize a ReplayBuffer object.\n",
    "        Params\n",
    "        ======\n",
    "            buffer_size: maximum size of buffer\n",
    "            batch_size: size of each training batch\n",
    "        \"\"\"\n",
    "        self.memory = deque(maxlen=buffer_size)  # internal memory (deque)\n",
    "        self.batch_size = batch_size\n",
    "        self.experience = namedtuple(\"Experience\", field_names=[\"state\", \"action\", \"reward\", \"next_state\", \"done\"])\n",
    "\n",
    "    def add(self, state, action, reward, next_state, done):\n",
    "        \"\"\"Add a new experience to memory.\"\"\"\n",
    "        e = self.experience(state, action, reward, next_state, done)\n",
    "        self.memory.append(e)\n",
    "\n",
    "    def sample(self, batch_size=64):\n",
    "        \"\"\"Randomly sample a batch of experiences from memory.\"\"\"\n",
    "        return random.sample(self.memory, k=self.batch_size)\n",
    "\n",
    "    def __len__(self):\n",
    "        \"\"\"Return the current size of internal memory.\"\"\"\n",
    "        return len(self.memory)"
   ]
  },
  {
   "cell_type": "markdown",
   "metadata": {},
   "source": [
    "## The actor ( Policy )"
   ]
  },
  {
   "cell_type": "code",
   "execution_count": 7,
   "metadata": {
    "collapsed": true
   },
   "outputs": [],
   "source": [
    "class policy_estimator():\n",
    "    def __init__(self, state_size, action_low, action_high, learning_rate = 0.001, scope = 'policy'):\n",
    "        with tf.variable_scope(scope):\n",
    "            \n",
    "            #criando placeholders\n",
    "            self.state  = tf.placeholder(tf.float32, [None, state_size], 'state')\n",
    "            self.action_gradients = tf.placeholder(tf.float32, name= 'target')\n",
    "            \n",
    "            self.fc1 = tf.contrib.layers.fully_connected(inputs= self.state\n",
    "                                                        , num_outputs= 10\n",
    "                                                        , activation_fn = tf.nn.relu\n",
    "                                                        , weights_initializer\n",
    "                                                            = tf.zeros_initializer)\n",
    "            \n",
    "            self.fc2 = tf.contrib.layers.fully_connected(inputs= self.fc1\n",
    "                                                        , num_outputs= 5\n",
    "                                                        , activation_fn = tf.nn.relu\n",
    "                                                        , weights_initializer\n",
    "                                                            = tf.zeros_initializer)\n",
    "            \n",
    "            self.fc3 = tf.contrib.layers.fully_connected(inputs= self.fc2\n",
    "                                                        , num_outputs= 1\n",
    "                                                        , activation_fn = tf.nn.relu\n",
    "                                                        , weights_initializer\n",
    "                                                            = tf.zeros_initializer)\n",
    "            \n",
    "            \n",
    "            self.fc4 = tf.contrib.layers.fully_connected(inputs= self.fc3\n",
    "                                                        , num_outputs= 4\n",
    "                                                        , activation_fn = tf.nn.sigmoid\n",
    "                                                        , weights_initializer\n",
    "                                                            = tf.ones_initializer)\n",
    "            \n",
    "            self.action = 900.*tf.squeeze(self.fc4)\n",
    "            \n",
    "            #loss\n",
    "            self.loss =  - tf.reduce_mean(self.action * self.action_gradients)\n",
    "            \n",
    "            #train\n",
    "            self.train = tf.train.AdamOptimizer(learning_rate).minimize(self.loss)\n",
    "            \n",
    "            \n",
    "    def rotor_actions(self, sess, state):\n",
    "        return sess.run(self.action, {self.state: state})\n",
    "    \n",
    "    def update(self, sess, state, action_gradients):\n",
    "        feed_dict = {self.state: state, self.action_gradients: action_gradients}\n",
    "        _, loss = sess.run([self.train, self.loss], feed_dict= feed_dict) \n",
    "        return loss"
   ]
  },
  {
   "cell_type": "markdown",
   "metadata": {},
   "source": [
    "# The critic (Value)"
   ]
  },
  {
   "cell_type": "code",
   "execution_count": 31,
   "metadata": {},
   "outputs": [],
   "source": [
    "class value_estimator():\n",
    "    def __init__(self, state_size, action_size, tau = 0.01, learning_rate = 0.001, scope = 'value_estimator'):\n",
    "        \n",
    "        with tf.variable_scope(scope):\n",
    "            \n",
    "            self.state = tf.placeholder(tf.float32, [None, state_size], name= 'state')\n",
    "            self.actions = tf.placeholder(tf.float32, [None, action_size], name='actions')\n",
    "            self.target = tf.placeholder(tf.float32, name= 'target')\n",
    "            self.tau = tf.placeholder(tf.float32, name= 'tau')\n",
    "            \n",
    "            #weights -- o treino fica mais rápido criando os placeholders\n",
    "            n_outputs = 20\n",
    "            self.holder_w_state_1 = tf.placeholder(tf.float32, [state_size, n_outputs])\n",
    "            self.holder_w_action_1 = tf.placeholder(tf.float32, [action_size, n_outputs])\n",
    "            self.holder_w_output = tf.placeholder(tf.float32, [n_outputs*2, 1])\n",
    "            \n",
    "            \n",
    "            self.holder_b_state_1 = tf.placeholder(tf.float32, [n_outputs])\n",
    "            self.holder_b_action_1 = tf.placeholder(tf.float32, [n_outputs])\n",
    "            self.holder_b_output = tf.placeholder(tf.float32, [1])\n",
    "            \n",
    "            #states - usando relu\n",
    "            self.w_state_1 = tf.Variable(dtype= tf.float32\n",
    "                                        ,initial_value= tf.truncated_normal([state_size, n_outputs], stddev= 0.1)\n",
    "                                        ,name= 'w_state_1')\n",
    "            self.b_state_1 = tf.Variable(dtype= tf.float32\n",
    "                                        ,initial_value= tf.zeros([n_outputs])\n",
    "                                        , name= 'b_state_1')\n",
    "            self.fc_state_1 = tf.nn.relu(tf.add(tf.matmul(self.state, self.w_state_1), self.b_state_1))\n",
    "            \n",
    "            \n",
    "            #actions - usando relu\n",
    "            self.w_action_1 = tf.Variable(dtype=tf.float32\n",
    "                                          ,initial_value= tf.truncated_normal([action_size, n_outputs], stddev= 0.1)\n",
    "                                          ,name= 'w_action_1')\n",
    "            self.b_action_1 = tf.Variable(dtype= tf.float32\n",
    "                                            ,initial_value= tf.zeros([n_outputs])\n",
    "                                            ,name= 'b_action_1')\n",
    "            self.fc_action_1 = tf.nn.relu(tf.add(tf.matmul(self.actions, self.w_action_1), self.b_action_1))\n",
    "            \n",
    "            \n",
    "            #join layers\n",
    "            self.merge = tf.concat([self.fc_state_1, self.fc_action_1], 1)\n",
    "            \n",
    "            #output\n",
    "            self.w_output = tf.Variable(dtype=tf.float32\n",
    "                                          ,initial_value= tf.truncated_normal([2*n_outputs, 1], stddev= 0.1)\n",
    "                                          ,name= 'w_output')\n",
    "            self.b_output = tf.Variable(dtype= tf.float32\n",
    "                                            ,initial_value= tf.zeros([1])\n",
    "                                            ,name= 'b_output')\n",
    "            self.output = tf.add(tf.matmul(self.merge, self.w_output), self.b_output)\n",
    "            \n",
    "            #gradients\n",
    "            self.gradients = tf.gradients(self.output, self.actions)\n",
    "            \n",
    "            #loss function\n",
    "            self.loss = tf.reduce_mean(tf.squared_difference(self.output, self.target))\n",
    "            \n",
    "            #train\n",
    "            self.train = tf.train.AdamOptimizer(learning_rate).minimize(self.loss)\n",
    "            \n",
    "            #assign values\n",
    "            self.assign_1 = tf.assign(self.w_state_1, self.tau*self.w_state_1 + (1-self.tau)*self.holder_w_state_1)\n",
    "            self.assign_2 = tf.assign(self.w_action_1, self.tau*self.w_action_1 + (1-self.tau)*self.holder_w_action_1)\n",
    "            self.assign_3 = tf.assign(self.w_output, self.tau*self.w_output + (1-self.tau)*self.holder_w_output)\n",
    "            \n",
    "            self.assign_4 = tf.assign(self.b_state_1, self.tau*self.b_state_1 + (1-self.tau)*self.holder_b_state_1)\n",
    "            self.assign_5 = tf.assign(self.b_action_1, self.tau*self.b_action_1 + (1-self.tau)*self.holder_b_action_1)\n",
    "            self.assign_6 = tf.assign(self.b_output, self.tau*self.b_output + (1-self.tau)*self.holder_b_output)\n",
    "    \n",
    "    def get_gradients(self, sess, state, action):\n",
    "        gradients = sess.run(self.gradients, {self.state: state, self.actions: action})\n",
    "        return gradients\n",
    "        \n",
    "    def predict_reward(self, sess, state, actions):\n",
    "        return sess.run(self.output, {self.state: state, self.actions: actions})\n",
    "\n",
    "    def update(self, sess, state, actions, target):\n",
    "        \n",
    "        #salvando pesos para soft update\n",
    "        #self.weights_old = np.array(sess.run(tf.trainable_variables(scope)))\n",
    "        \n",
    "        feed_dict = {self.state: state, self.actions: actions, self.target: target}\n",
    "        _, loss = sess.run([self.train, self.loss], feed_dict= feed_dict)\n",
    "        return loss    \n",
    "    \n",
    "    def soft_update(self, sess, weights_old, tau = .1):\n",
    "        '''Uso os weights antigos e novos para atualizar a variável \n",
    "        sess: sessão criada pelo tensorflow\n",
    "        tau: pondera a atualização dos weights, entre os weights antigos e novos\n",
    "        '''\n",
    "        \n",
    "        sess.run([self.assign_1, self.assign_2, self.assign_3, self.assign_4, self.assign_5, self.assign_6]\n",
    "                    ,{ self.tau : tau\n",
    "                        , self.holder_w_state_1: weights_old[0]\n",
    "                        , self.holder_b_state_1: weights_old[1]\n",
    "                        , self.holder_w_action_1: weights_old[2]\n",
    "                        , self.holder_b_action_1: weights_old[3]\n",
    "                        , self.holder_w_output: weights_old[4]\n",
    "                        , self.holder_b_output: weights_old[5]})\n",
    "        "
   ]
  },
  {
   "cell_type": "markdown",
   "metadata": {},
   "source": [
    "### Trainning\n",
    "\n",
    "_Feature scalling_: usar feature scalling "
   ]
  },
  {
   "cell_type": "code",
   "execution_count": 36,
   "metadata": {},
   "outputs": [
    {
     "name": "stdout",
     "output_type": "stream",
     "text": [
      "[-0.18116628  0.03636018 -0.0089874  -0.14273633 -0.05444901 -0.0170257\n",
      " -0.10640967  0.03887366  0.02076398  0.14223197 -0.05217366  0.02163329\n",
      "  0.11208548 -0.0220156  -0.09219511  0.00111779 -0.06509996  0.0333392\n",
      " -0.04893035 -0.13767077]\n",
      "[-0.18116628  0.03636018 -0.0089874  -0.14273633 -0.05444901 -0.0170257\n",
      " -0.10640967  0.03887366  0.02076398  0.14223197 -0.05217366  0.02163329\n",
      "  0.11208548 -0.0220156  -0.09219511  0.00111779 -0.06509996  0.0333392\n",
      " -0.04893035 -0.13767077]\n"
     ]
    }
   ],
   "source": [
    "tf.reset_default_graph()\n",
    "local_critic = value_estimator(task.state_size, task.action_size, tau = 0.01, learning_rate=0.001, scope= 'critic_local')\n",
    "target_critic = value_estimator(task.state_size, task.action_size, tau = 0.01, learning_rate=0.001, scope = 'critic_target')\n",
    "\n",
    "with tf.Session() as sess:\n",
    "    init = tf.global_variables_initializer()\n",
    "    \n",
    "    sess.run(init)\n",
    "    \n",
    "    aux = np.array(sess.run(tf.trainable_variables(scope='critic_local')))    \n",
    "    print(aux[0][1])\n",
    "\n",
    "    #usando tau = 0 a atualização somente utilizara os valores em aux\n",
    "    target_critic.soft_update(sess, aux, 0)\n",
    "    \n",
    "    aux = np.array(sess.run(tf.trainable_variables(scope='critic_target')))    \n",
    "    print(aux[0][1])\n",
    "    \n"
   ]
  },
  {
   "cell_type": "code",
   "execution_count": null,
   "metadata": {
    "collapsed": true
   },
   "outputs": [],
   "source": []
  },
  {
   "cell_type": "code",
   "execution_count": 11,
   "metadata": {
    "scrolled": false
   },
   "outputs": [
    {
     "name": "stdout",
     "output_type": "stream",
     "text": [
      "Episodio 14999 - steps 7[ 1.50443614 -4.18961396  1.44045672  0.54007192]\n",
      "Posicao: [-3.49643809e-07 -3.50776073e-07  0.00000000e+00]\n",
      "Ângulo: [4.75843932e-05 1.22364206e-05 0.00000000e+00]"
     ]
    },
    {
     "data": {
      "image/png": "[encoded data removed]",
      "text/plain": [
       "<matplotlib.figure.Figure at 0x2673b57a748>"
      ]
     },
     "metadata": {},
     "output_type": "display_data"
    },
    {
     "data": {
      "image/png": "[encoded data removed]",
      "text/plain": [
       "<matplotlib.figure.Figure at 0x26755ef80f0>"
      ]
     },
     "metadata": {},
     "output_type": "display_data"
    },
    {
     "data": {
      "image/png": "[encoded data removed]",
      "text/plain": [
       "<matplotlib.figure.Figure at 0x2673b3cb898>"
      ]
     },
     "metadata": {},
     "output_type": "display_data"
    }
   ],
   "source": [
    "#Primeiro devo dar um reset no grafo                \n",
    "tf.reset_default_graph()\n",
    "\n",
    "#hiperparametros\n",
    "num_episodios = 50\n",
    "gamma = .99\n",
    "\n",
    "#ruído\n",
    "ruido = OUNoise(4, 0, .15, 1)\n",
    "\n",
    "#Replay Buffer\n",
    "replay = ReplayBuffer(10000, 64)\n",
    "\n",
    "#inicializo um novo grafo aqui\n",
    "policy = policy_estimator(state_size = task.state_size, action_low= 0, action_high= 900, learning_rate=0.001)\n",
    "local_critic = value_estimator(task.state_size, task.action_size, tau = 0.01, learning_rate=0.001, scope= 'critic_local')\n",
    "target_critic = value_estimator(task.state_size, task.action_size, tau = 0.01, learning_rate=0.001, scope = 'critic_target')\n",
    "\n",
    "acm_reward = np.zeros(num_episodios)\n",
    "loss_value = []\n",
    "loss_policy = []\n",
    "reward_ = []\n",
    "\n",
    "with tf.Session() as sess:\n",
    "    sess.run(tf.global_variables_initializer())\n",
    "    \n",
    "    for episodio in range(num_episodios):\n",
    "\n",
    "        #inicializando state\n",
    "        state = task.reset().reshape(-1,1)\n",
    "        \n",
    "        for timestep in COUNTER():\n",
    "            \n",
    "            action = policy.rotor_actions(sess, state.reshape(1, -1)) + ruido.sample()\n",
    "            next_state, reward, done = task.step(action)\n",
    "            acm_reward[episodio] += reward\n",
    "            \n",
    "            #loop escape\n",
    "            if done:\n",
    "                break\n",
    "            \n",
    "            #salvar buffer\n",
    "            replay.add(state, action, reward, next_state, done)\n",
    "            \n",
    "            #next action\n",
    "            next_action = policy.rotor_actions(sess, next_state.reshape(1, -1))\n",
    "            td_target = reward + gamma * value.predict_reward(sess\n",
    "                                                              , next_state.reshape(1, -1)\n",
    "                                                              , next_action.reshape(1,-1))\n",
    "            \n",
    "            #update value\n",
    "            loss_value.append(value.update(sess, state.reshape(1, -1), action.reshape(1,-1), td_target))\n",
    "            \n",
    "            #soft update\n",
    "            value.soft_update(sess, tau= 0.5)\n",
    "        \n",
    "            \n",
    "            #action gradients\n",
    "            action_gradients = value.get_gradients(sess, state.reshape(1, -1), action.reshape(1,-1))\n",
    "            \n",
    "            #update policy\n",
    "            loss_policy.append(policy.update(sess, state.reshape(1, -1), action_gradients))\n",
    "            \n",
    "            reward_.append(reward)\n",
    "            \n",
    "            #update state\n",
    "            state = next_state\n",
    "        \n",
    "        #usar buffer\n",
    "        if len(replay.memory) > replay.batch_size:\n",
    "            for i in replay.sample():\n",
    "                \n",
    "                action_next = policy.rotor_actions(sess, i.next_state.reshape(1, -1))\n",
    "                td_target = i.reward \\\n",
    "                            + gamma * value.predict_reward(sess, i.next_state.reshape(1, -1), action_next.reshape(1,-1)) \\\n",
    "                            * (1 - done)\n",
    "                \n",
    "                #action gradients\n",
    "                action_gradients = value.get_gradients(sess, i.state.reshape(1, -1), i.action.reshape(1,-1))\n",
    "\n",
    "                #update value\n",
    "                value.update(sess, i.state.reshape(1, -1), i.action.reshape(1,-1), td_target)\n",
    "                \n",
    "                #soft update\n",
    "                value.soft_update(sess, tau= 0.1)\n",
    "\n",
    "                #update policy\n",
    "                policy.update(sess, i.state.reshape(1, -1), action_gradients)\n",
    "            \n",
    "        print('\\rEpisodio {} - steps {}'.format(episodio, timestep), end=\"\")    \n",
    "        #print('{}'.format(task.sim.pose[:3]))\n",
    "        sys.stdout.flush()\n",
    "        \n",
    "    print(action)        \n",
    "print('\\rPosicao: {}'.format(task.sim.pose[:3]), end=\"\\n\")    \n",
    "print('\\rÂngulo: {}'.format(task.sim.pose[3:]), end=\"\")    \n",
    "\n",
    "plt.plot(loss_value, label = 'Loss value')\n",
    "plt.legend()\n",
    "plt.show()\n",
    "\n",
    "plt.plot(loss_policy, label = 'Loss policy')\n",
    "plt.legend()\n",
    "plt.show()\n",
    "\n",
    "plt.plot(reward_, label='reward')\n",
    "plt.legend()\n",
    "plt.show()"
   ]
  },
  {
   "cell_type": "code",
   "execution_count": null,
   "metadata": {
    "collapsed": true
   },
   "outputs": [],
   "source": []
  }
 ],
 "metadata": {
  "kernelspec": {
   "display_name": "Python 3",
   "language": "python",
   "name": "python3"
  },
  "language_info": {
   "codemirror_mode": {
    "name": "ipython",
    "version": 3
   },
   "file_extension": ".py",
   "mimetype": "text/x-python",
   "name": "python",
   "nbconvert_exporter": "python",
   "pygments_lexer": "ipython3",
   "version": "3.5.3"
  }
 },
 "nbformat": 4,
 "nbformat_minor": 2
}
